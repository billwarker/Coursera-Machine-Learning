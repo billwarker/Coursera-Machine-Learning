{
 "cells": [
  {
   "cell_type": "code",
   "execution_count": 1,
   "metadata": {
    "collapsed": true
   },
   "outputs": [],
   "source": [
    "import pandas as pd\n",
    "import numpy as np\n",
    "import matplotlib.pyplot as plt\n",
    "%matplotlib inline"
   ]
  },
  {
   "cell_type": "code",
   "execution_count": 2,
   "metadata": {
    "collapsed": false
   },
   "outputs": [
    {
     "data": {
      "text/html": [
       "<div>\n",
       "<table border=\"1\" class=\"dataframe\">\n",
       "  <thead>\n",
       "    <tr style=\"text-align: right;\">\n",
       "      <th></th>\n",
       "      <th>34.62365962451697</th>\n",
       "      <th>78.0246928153624</th>\n",
       "      <th>0</th>\n",
       "    </tr>\n",
       "  </thead>\n",
       "  <tbody>\n",
       "    <tr>\n",
       "      <th>0</th>\n",
       "      <td>30.286711</td>\n",
       "      <td>43.894998</td>\n",
       "      <td>0</td>\n",
       "    </tr>\n",
       "    <tr>\n",
       "      <th>1</th>\n",
       "      <td>35.847409</td>\n",
       "      <td>72.902198</td>\n",
       "      <td>0</td>\n",
       "    </tr>\n",
       "    <tr>\n",
       "      <th>2</th>\n",
       "      <td>60.182599</td>\n",
       "      <td>86.308552</td>\n",
       "      <td>1</td>\n",
       "    </tr>\n",
       "    <tr>\n",
       "      <th>3</th>\n",
       "      <td>79.032736</td>\n",
       "      <td>75.344376</td>\n",
       "      <td>1</td>\n",
       "    </tr>\n",
       "    <tr>\n",
       "      <th>4</th>\n",
       "      <td>45.083277</td>\n",
       "      <td>56.316372</td>\n",
       "      <td>0</td>\n",
       "    </tr>\n",
       "  </tbody>\n",
       "</table>\n",
       "</div>"
      ],
      "text/plain": [
       "   34.62365962451697  78.0246928153624  0\n",
       "0          30.286711         43.894998  0\n",
       "1          35.847409         72.902198  0\n",
       "2          60.182599         86.308552  1\n",
       "3          79.032736         75.344376  1\n",
       "4          45.083277         56.316372  0"
      ]
     },
     "execution_count": 2,
     "metadata": {},
     "output_type": "execute_result"
    }
   ],
   "source": [
    "data = pd.read_csv('ex2data1.txt')\n",
    "data.head()"
   ]
  },
  {
   "cell_type": "code",
   "execution_count": 3,
   "metadata": {
    "collapsed": false
   },
   "outputs": [
    {
     "data": {
      "text/html": [
       "<div>\n",
       "<table border=\"1\" class=\"dataframe\">\n",
       "  <thead>\n",
       "    <tr style=\"text-align: right;\">\n",
       "      <th></th>\n",
       "      <th>0</th>\n",
       "      <th>1</th>\n",
       "      <th>2</th>\n",
       "    </tr>\n",
       "  </thead>\n",
       "  <tbody>\n",
       "    <tr>\n",
       "      <th>0</th>\n",
       "      <td>34.62366</td>\n",
       "      <td>78.024693</td>\n",
       "      <td>0.0</td>\n",
       "    </tr>\n",
       "  </tbody>\n",
       "</table>\n",
       "</div>"
      ],
      "text/plain": [
       "          0          1    2\n",
       "0  34.62366  78.024693  0.0"
      ]
     },
     "execution_count": 3,
     "metadata": {},
     "output_type": "execute_result"
    }
   ],
   "source": [
    "extra_data = pd.DataFrame([float(data.columns[0]), float(data.columns[1]), int(data.columns[2])]).T\n",
    "extra_data\n"
   ]
  },
  {
   "cell_type": "code",
   "execution_count": 4,
   "metadata": {
    "collapsed": false
   },
   "outputs": [
    {
     "data": {
      "text/html": [
       "<div>\n",
       "<table border=\"1\" class=\"dataframe\">\n",
       "  <thead>\n",
       "    <tr style=\"text-align: right;\">\n",
       "      <th></th>\n",
       "      <th>Exam 1 Score</th>\n",
       "      <th>Exam 2 Score</th>\n",
       "      <th>Admitted</th>\n",
       "    </tr>\n",
       "  </thead>\n",
       "  <tbody>\n",
       "    <tr>\n",
       "      <th>95</th>\n",
       "      <td>42.261701</td>\n",
       "      <td>87.103851</td>\n",
       "      <td>1.0</td>\n",
       "    </tr>\n",
       "    <tr>\n",
       "      <th>96</th>\n",
       "      <td>99.315009</td>\n",
       "      <td>68.775409</td>\n",
       "      <td>1.0</td>\n",
       "    </tr>\n",
       "    <tr>\n",
       "      <th>97</th>\n",
       "      <td>55.340018</td>\n",
       "      <td>64.931938</td>\n",
       "      <td>1.0</td>\n",
       "    </tr>\n",
       "    <tr>\n",
       "      <th>98</th>\n",
       "      <td>74.775893</td>\n",
       "      <td>89.529813</td>\n",
       "      <td>1.0</td>\n",
       "    </tr>\n",
       "    <tr>\n",
       "      <th>99</th>\n",
       "      <td>34.623660</td>\n",
       "      <td>78.024693</td>\n",
       "      <td>0.0</td>\n",
       "    </tr>\n",
       "  </tbody>\n",
       "</table>\n",
       "</div>"
      ],
      "text/plain": [
       "    Exam 1 Score  Exam 2 Score  Admitted\n",
       "95     42.261701     87.103851       1.0\n",
       "96     99.315009     68.775409       1.0\n",
       "97     55.340018     64.931938       1.0\n",
       "98     74.775893     89.529813       1.0\n",
       "99     34.623660     78.024693       0.0"
      ]
     },
     "execution_count": 4,
     "metadata": {},
     "output_type": "execute_result"
    }
   ],
   "source": [
    "data.columns = ['Exam 1 Score', 'Exam 2 Score', 'Admitted']\n",
    "extra_data.columns = data.columns\n",
    "\n",
    "combined = data.append(extra_data, ignore_index=True)\n",
    "combined.tail()"
   ]
  },
  {
   "cell_type": "code",
   "execution_count": 5,
   "metadata": {
    "collapsed": false
   },
   "outputs": [
    {
     "data": {
      "text/plain": [
       "(100, 3)"
      ]
     },
     "execution_count": 5,
     "metadata": {},
     "output_type": "execute_result"
    }
   ],
   "source": [
    "combined.shape"
   ]
  },
  {
   "cell_type": "code",
   "execution_count": 6,
   "metadata": {
    "collapsed": false
   },
   "outputs": [
    {
     "data": {
      "text/plain": [
       "<matplotlib.legend.Legend at 0x2dd1bf2bc18>"
      ]
     },
     "execution_count": 6,
     "metadata": {},
     "output_type": "execute_result"
    },
    {
     "data": {
      "image/png": "[encoded data removed]",
      "text/plain": [
       "<matplotlib.figure.Figure at 0x2dd1be70588>"
      ]
     },
     "metadata": {},
     "output_type": "display_data"
    }
   ],
   "source": [
    "plt.figure(figsize=(13,8))\n",
    "ax = plt.subplot()\n",
    "ax.scatter(combined['Exam 1 Score'].loc[combined['Admitted'] == 1], combined['Exam 2 Score'].loc[combined['Admitted'] == 1],\n",
    "          c='g', s=40)\n",
    "ax.scatter(combined['Exam 1 Score'].loc[combined['Admitted'] == 0], combined['Exam 2 Score'].loc[combined['Admitted'] == 0],\n",
    "          c='r', s=40)\n",
    "ax.set_xlabel('Exam 1 Score')\n",
    "ax.set_ylabel('Exam 2 Score')\n",
    "ax.legend(['Admitted', 'Not Admitted'], scatterpoints=1, loc='lower left')"
   ]
  },
  {
   "cell_type": "markdown",
   "metadata": {},
   "source": [
    "### Sigmoid Function"
   ]
  },
  {
   "cell_type": "code",
   "execution_count": 7,
   "metadata": {
    "collapsed": false
   },
   "outputs": [],
   "source": [
    "def sigmoid(z):\n",
    "    return 1/(1 + (np.e)**(-z))"
   ]
  },
  {
   "cell_type": "code",
   "execution_count": 8,
   "metadata": {
    "collapsed": false
   },
   "outputs": [
    {
     "data": {
      "text/plain": [
       "0.9999546021312976"
      ]
     },
     "execution_count": 8,
     "metadata": {},
     "output_type": "execute_result"
    }
   ],
   "source": [
    "sigmoid(10)"
   ]
  },
  {
   "cell_type": "code",
   "execution_count": 9,
   "metadata": {
    "collapsed": false
   },
   "outputs": [
    {
     "data": {
      "text/plain": [
       "4.539786870243442e-05"
      ]
     },
     "execution_count": 9,
     "metadata": {},
     "output_type": "execute_result"
    }
   ],
   "source": [
    "sigmoid(-10)"
   ]
  },
  {
   "cell_type": "code",
   "execution_count": 10,
   "metadata": {
    "collapsed": false
   },
   "outputs": [
    {
     "data": {
      "text/plain": [
       "0.5"
      ]
     },
     "execution_count": 10,
     "metadata": {},
     "output_type": "execute_result"
    }
   ],
   "source": [
    "sigmoid(0)"
   ]
  },
  {
   "cell_type": "code",
   "execution_count": 11,
   "metadata": {
    "collapsed": true
   },
   "outputs": [],
   "source": [
    "practice_v = np.array([0, 10])"
   ]
  },
  {
   "cell_type": "code",
   "execution_count": 12,
   "metadata": {
    "collapsed": false
   },
   "outputs": [
    {
     "data": {
      "text/plain": [
       "array([ 0.5      ,  0.9999546])"
      ]
     },
     "execution_count": 12,
     "metadata": {},
     "output_type": "execute_result"
    }
   ],
   "source": [
    "sigmoid(practice_v)"
   ]
  },
  {
   "cell_type": "code",
   "execution_count": 13,
   "metadata": {
    "collapsed": false
   },
   "outputs": [],
   "source": [
    "practice_m = np.array([[2,3], [3,2]])"
   ]
  },
  {
   "cell_type": "code",
   "execution_count": 14,
   "metadata": {
    "collapsed": false
   },
   "outputs": [
    {
     "data": {
      "text/plain": [
       "array([[ 0.88079708,  0.95257413],\n",
       "       [ 0.95257413,  0.88079708]])"
      ]
     },
     "execution_count": 14,
     "metadata": {},
     "output_type": "execute_result"
    }
   ],
   "source": [
    "sigmoid(practice_m)"
   ]
  },
  {
   "cell_type": "markdown",
   "metadata": {},
   "source": [
    "### Process DataFrame"
   ]
  },
  {
   "cell_type": "code",
   "execution_count": 15,
   "metadata": {
    "collapsed": false
   },
   "outputs": [],
   "source": [
    "target = combined['Admitted']\n",
    "X_vals = combined.drop(['Admitted'], axis=1)\n"
   ]
  },
  {
   "cell_type": "code",
   "execution_count": 16,
   "metadata": {
    "collapsed": true
   },
   "outputs": [],
   "source": [
    "def process_dataframe():\n",
    "    \n",
    "    global combined\n",
    "    \n",
    "    df = combined.drop(['Admitted'], axis=1)\n",
    "    X_vals = df.values\n",
    "    ones = np.ones([len(combined), 1])\n",
    "    X = np.concatenate([ones, X_vals], axis=1)\n",
    "    y = np.array(combined['Admitted']).T\n",
    "    \n",
    "    theta = np.zeros([len(df.columns) + 1, 1])\n",
    "    \n",
    "    return X, y, theta"
   ]
  },
  {
   "cell_type": "code",
   "execution_count": 17,
   "metadata": {
    "collapsed": false
   },
   "outputs": [],
   "source": [
    "X, y, theta = process_dataframe()"
   ]
  },
  {
   "cell_type": "code",
   "execution_count": 18,
   "metadata": {
    "collapsed": false
   },
   "outputs": [
    {
     "data": {
      "text/plain": [
       "(array([[  1.        ,  30.28671077,  43.89499752],\n",
       "        [  1.        ,  35.84740877,  72.90219803],\n",
       "        [  1.        ,  60.18259939,  86.3085521 ],\n",
       "        [  1.        ,  79.03273605,  75.34437644],\n",
       "        [  1.        ,  45.08327748,  56.31637178],\n",
       "        [  1.        ,  61.10666454,  96.51142588],\n",
       "        [  1.        ,  75.02474557,  46.55401354],\n",
       "        [  1.        ,  76.0987867 ,  87.42056972],\n",
       "        [  1.        ,  84.43281996,  43.53339331],\n",
       "        [  1.        ,  95.86155507,  38.22527806],\n",
       "        [  1.        ,  75.01365839,  30.60326323],\n",
       "        [  1.        ,  82.30705337,  76.4819633 ],\n",
       "        [  1.        ,  69.36458876,  97.71869196],\n",
       "        [  1.        ,  39.53833914,  76.03681085],\n",
       "        [  1.        ,  53.97105215,  89.20735014],\n",
       "        [  1.        ,  69.07014406,  52.74046973],\n",
       "        [  1.        ,  67.94685548,  46.67857411],\n",
       "        [  1.        ,  70.66150955,  92.92713789],\n",
       "        [  1.        ,  76.97878373,  47.57596365],\n",
       "        [  1.        ,  67.37202755,  42.83843832],\n",
       "        [  1.        ,  89.67677575,  65.79936593],\n",
       "        [  1.        ,  50.53478829,  48.85581153],\n",
       "        [  1.        ,  34.21206098,  44.2095286 ],\n",
       "        [  1.        ,  77.92409145,  68.97235999],\n",
       "        [  1.        ,  62.27101367,  69.95445795],\n",
       "        [  1.        ,  80.19018075,  44.82162893],\n",
       "        [  1.        ,  93.1143888 ,  38.80067034],\n",
       "        [  1.        ,  61.83020602,  50.25610789],\n",
       "        [  1.        ,  38.7858038 ,  64.99568096],\n",
       "        [  1.        ,  61.37928945,  72.80788731],\n",
       "        [  1.        ,  85.40451939,  57.05198398],\n",
       "        [  1.        ,  52.10797973,  63.12762377],\n",
       "        [  1.        ,  52.04540477,  69.43286012],\n",
       "        [  1.        ,  40.23689374,  71.16774802],\n",
       "        [  1.        ,  54.63510555,  52.21388588],\n",
       "        [  1.        ,  33.91550011,  98.86943574],\n",
       "        [  1.        ,  64.17698887,  80.90806059],\n",
       "        [  1.        ,  74.78925296,  41.57341523],\n",
       "        [  1.        ,  34.18364003,  75.23772034],\n",
       "        [  1.        ,  83.90239366,  56.30804622],\n",
       "        [  1.        ,  51.54772027,  46.85629026],\n",
       "        [  1.        ,  94.44336777,  65.56892161],\n",
       "        [  1.        ,  82.36875376,  40.61825516],\n",
       "        [  1.        ,  51.04775177,  45.82270146],\n",
       "        [  1.        ,  62.22267576,  52.06099195],\n",
       "        [  1.        ,  77.19303493,  70.4582    ],\n",
       "        [  1.        ,  97.77159928,  86.72782233],\n",
       "        [  1.        ,  62.0730638 ,  96.76882412],\n",
       "        [  1.        ,  91.5649745 ,  88.69629255],\n",
       "        [  1.        ,  79.94481794,  74.16311935],\n",
       "        [  1.        ,  99.27252693,  60.999031  ],\n",
       "        [  1.        ,  90.54671411,  43.39060181],\n",
       "        [  1.        ,  34.52451385,  60.39634246],\n",
       "        [  1.        ,  50.28649612,  49.80453881],\n",
       "        [  1.        ,  49.58667722,  59.80895099],\n",
       "        [  1.        ,  97.64563396,  68.86157272],\n",
       "        [  1.        ,  32.57720017,  95.59854761],\n",
       "        [  1.        ,  74.24869137,  69.82457123],\n",
       "        [  1.        ,  71.79646206,  78.45356225],\n",
       "        [  1.        ,  75.39561147,  85.75993667],\n",
       "        [  1.        ,  35.28611282,  47.02051395],\n",
       "        [  1.        ,  56.2538175 ,  39.26147251],\n",
       "        [  1.        ,  30.05882245,  49.59297387],\n",
       "        [  1.        ,  44.66826172,  66.45008615],\n",
       "        [  1.        ,  66.56089447,  41.09209808],\n",
       "        [  1.        ,  40.45755098,  97.53518549],\n",
       "        [  1.        ,  49.07256322,  51.88321182],\n",
       "        [  1.        ,  80.27957401,  92.11606081],\n",
       "        [  1.        ,  66.74671857,  60.99139403],\n",
       "        [  1.        ,  32.72283304,  43.30717306],\n",
       "        [  1.        ,  64.03932042,  78.03168802],\n",
       "        [  1.        ,  72.34649423,  96.22759297],\n",
       "        [  1.        ,  60.45788574,  73.0949981 ],\n",
       "        [  1.        ,  58.84095622,  75.85844831],\n",
       "        [  1.        ,  99.8278578 ,  72.36925193],\n",
       "        [  1.        ,  47.26426911,  88.475865  ],\n",
       "        [  1.        ,  50.4581598 ,  75.80985953],\n",
       "        [  1.        ,  60.45555629,  42.50840944],\n",
       "        [  1.        ,  82.22666158,  42.71987854],\n",
       "        [  1.        ,  88.91389642,  69.8037889 ],\n",
       "        [  1.        ,  94.83450672,  45.6943068 ],\n",
       "        [  1.        ,  67.31925747,  66.58935318],\n",
       "        [  1.        ,  57.23870632,  59.51428198],\n",
       "        [  1.        ,  80.366756  ,  90.9601479 ],\n",
       "        [  1.        ,  68.46852179,  85.5943071 ],\n",
       "        [  1.        ,  42.07545454,  78.844786  ],\n",
       "        [  1.        ,  75.47770201,  90.424539  ],\n",
       "        [  1.        ,  78.63542435,  96.64742717],\n",
       "        [  1.        ,  52.34800399,  60.76950526],\n",
       "        [  1.        ,  94.09433113,  77.15910509],\n",
       "        [  1.        ,  90.44855097,  87.50879176],\n",
       "        [  1.        ,  55.48216114,  35.57070347],\n",
       "        [  1.        ,  74.49269242,  84.84513685],\n",
       "        [  1.        ,  89.84580671,  45.35828361],\n",
       "        [  1.        ,  83.48916274,  48.3802858 ],\n",
       "        [  1.        ,  42.26170081,  87.10385094],\n",
       "        [  1.        ,  99.31500881,  68.77540947],\n",
       "        [  1.        ,  55.34001756,  64.93193801],\n",
       "        [  1.        ,  74.775893  ,  89.5298129 ],\n",
       "        [  1.        ,  34.62365962,  78.02469282]]),\n",
       " array([ 0.,  0.,  1.,  1.,  0.,  1.,  1.,  1.,  1.,  0.,  0.,  1.,  1.,\n",
       "         0.,  1.,  1.,  0.,  1.,  1.,  0.,  1.,  0.,  0.,  1.,  1.,  1.,\n",
       "         0.,  0.,  0.,  1.,  1.,  0.,  1.,  0.,  0.,  0.,  1.,  0.,  0.,\n",
       "         1.,  0.,  1.,  0.,  0.,  0.,  1.,  1.,  1.,  1.,  1.,  1.,  1.,\n",
       "         0.,  0.,  0.,  1.,  0.,  1.,  1.,  1.,  0.,  0.,  0.,  0.,  0.,\n",
       "         1.,  0.,  1.,  1.,  0.,  1.,  1.,  1.,  1.,  1.,  1.,  1.,  0.,\n",
       "         0.,  1.,  1.,  1.,  1.,  1.,  1.,  0.,  1.,  1.,  0.,  1.,  1.,\n",
       "         0.,  1.,  1.,  1.,  1.,  1.,  1.,  1.,  0.]),\n",
       " array([[ 0.],\n",
       "        [ 0.],\n",
       "        [ 0.]]))"
      ]
     },
     "execution_count": 18,
     "metadata": {},
     "output_type": "execute_result"
    }
   ],
   "source": [
    "X, y, theta"
   ]
  },
  {
   "cell_type": "markdown",
   "metadata": {},
   "source": [
    "### Hypothesis Function"
   ]
  },
  {
   "cell_type": "code",
   "execution_count": 19,
   "metadata": {
    "collapsed": false
   },
   "outputs": [],
   "source": [
    "def hypothesis(X, theta):\n",
    "    return sigmoid(np.dot(X,theta))"
   ]
  },
  {
   "cell_type": "code",
   "execution_count": 20,
   "metadata": {
    "collapsed": false
   },
   "outputs": [
    {
     "name": "stdout",
     "output_type": "stream",
     "text": [
      "(100, 3)\n",
      "(1, 3)\n"
     ]
    }
   ],
   "source": [
    "print(X.shape)\n",
    "print(theta.T.shape)"
   ]
  },
  {
   "cell_type": "code",
   "execution_count": 21,
   "metadata": {
    "collapsed": false
   },
   "outputs": [
    {
     "data": {
      "text/plain": [
       "array([[ 0.5],\n",
       "       [ 0.5],\n",
       "       [ 0.5],\n",
       "       [ 0.5],\n",
       "       [ 0.5]])"
      ]
     },
     "execution_count": 21,
     "metadata": {},
     "output_type": "execute_result"
    }
   ],
   "source": [
    "hypothesis(X, theta)[:5]"
   ]
  },
  {
   "cell_type": "code",
   "execution_count": 22,
   "metadata": {
    "collapsed": false
   },
   "outputs": [
    {
     "data": {
      "text/plain": [
       "(100, 1)"
      ]
     },
     "execution_count": 22,
     "metadata": {},
     "output_type": "execute_result"
    }
   ],
   "source": [
    "(hypothesis(X,theta)).shape"
   ]
  },
  {
   "cell_type": "markdown",
   "metadata": {},
   "source": [
    "### Cost Function and Gradient"
   ]
  },
  {
   "cell_type": "code",
   "execution_count": 23,
   "metadata": {
    "collapsed": true
   },
   "outputs": [],
   "source": [
    "def cost_function(theta,x,y):\n",
    "    m, n = x.shape \n",
    "    theta = theta.reshape((n,1))\n",
    "    y = y.reshape((m,1))\n",
    "    term1 = np.log(hypothesis(x, theta))\n",
    "    term2 = np.log(1 - hypothesis(x, theta))\n",
    "    term1 = term1.reshape((m,1))\n",
    "    term2 = term2.reshape((m,1))\n",
    "    term = y * term1 + (1 - y) * term2\n",
    "    J = -((np.sum(term))/m)\n",
    "    \n",
    "    return J"
   ]
  },
  {
   "cell_type": "code",
   "execution_count": 24,
   "metadata": {
    "collapsed": false
   },
   "outputs": [
    {
     "data": {
      "text/plain": [
       "array([[ 0.],\n",
       "       [ 0.],\n",
       "       [ 0.]])"
      ]
     },
     "execution_count": 24,
     "metadata": {},
     "output_type": "execute_result"
    }
   ],
   "source": [
    "theta"
   ]
  },
  {
   "cell_type": "code",
   "execution_count": 25,
   "metadata": {
    "collapsed": false,
    "scrolled": true
   },
   "outputs": [
    {
     "data": {
      "text/plain": [
       "0.69314718055994529"
      ]
     },
     "execution_count": 25,
     "metadata": {},
     "output_type": "execute_result"
    }
   ],
   "source": [
    "cost_function(theta, X, y)"
   ]
  },
  {
   "cell_type": "code",
   "execution_count": 26,
   "metadata": {
    "collapsed": true
   },
   "outputs": [],
   "source": [
    "def gradient(theta,x,y):\n",
    "    m , n = x.shape\n",
    "    theta = theta.reshape((n,1));\n",
    "    y = y.reshape((m,1))\n",
    "    sigmoid_x_theta = sigmoid(x.dot(theta))\n",
    "    grad = ((x.T).dot(sigmoid_x_theta-y))/m\n",
    "    return grad.flatten()"
   ]
  },
  {
   "cell_type": "code",
   "execution_count": 27,
   "metadata": {
    "collapsed": false
   },
   "outputs": [
    {
     "data": {
      "text/plain": [
       "array([ -0.1       , -12.00921659, -11.26284221])"
      ]
     },
     "execution_count": 27,
     "metadata": {},
     "output_type": "execute_result"
    }
   ],
   "source": [
    "gradient(theta, X, y)"
   ]
  },
  {
   "cell_type": "code",
   "execution_count": 28,
   "metadata": {
    "collapsed": true
   },
   "outputs": [],
   "source": [
    "import scipy.optimize as op"
   ]
  },
  {
   "cell_type": "code",
   "execution_count": 29,
   "metadata": {
    "collapsed": false
   },
   "outputs": [],
   "source": [
    "result = op.minimize(fun=cost_function, x0=theta, args=(X, y),\n",
    "                    method= 'TNC', jac=gradient)"
   ]
  },
  {
   "cell_type": "code",
   "execution_count": 30,
   "metadata": {
    "collapsed": false
   },
   "outputs": [
    {
     "data": {
      "text/plain": [
       "     fun: 0.20349770158947533\n",
       "     jac: array([  9.22361572e-09,   1.06323770e-07,   4.79775829e-07])\n",
       " message: 'Local minimum reached (|pg| ~= 0)'\n",
       "    nfev: 36\n",
       "     nit: 17\n",
       "  status: 0\n",
       " success: True\n",
       "       x: array([-25.16131847,   0.20623159,   0.20147148])"
      ]
     },
     "execution_count": 30,
     "metadata": {},
     "output_type": "execute_result"
    }
   ],
   "source": [
    "result"
   ]
  },
  {
   "cell_type": "code",
   "execution_count": 31,
   "metadata": {
    "collapsed": true
   },
   "outputs": [],
   "source": [
    "new_theta = result.x"
   ]
  },
  {
   "cell_type": "code",
   "execution_count": 32,
   "metadata": {
    "collapsed": false
   },
   "outputs": [],
   "source": [
    "def get_weights(theta):\n",
    "    return theta[0], theta[0], theta[0]\n",
    "        \n",
    "    "
   ]
  },
  {
   "cell_type": "code",
   "execution_count": 33,
   "metadata": {
    "collapsed": false
   },
   "outputs": [],
   "source": [
    "w0, w1, w2 = get_weights(new_theta)"
   ]
  },
  {
   "cell_type": "code",
   "execution_count": 34,
   "metadata": {
    "collapsed": false
   },
   "outputs": [],
   "source": [
    "X1 = np.array([b[1] for b in X])"
   ]
  },
  {
   "cell_type": "code",
   "execution_count": 35,
   "metadata": {
    "collapsed": false
   },
   "outputs": [
    {
     "data": {
      "text/plain": [
       "array([ 30.28671077,  35.84740877,  60.18259939,  79.03273605,\n",
       "        45.08327748,  61.10666454,  75.02474557,  76.0987867 ,\n",
       "        84.43281996,  95.86155507,  75.01365839,  82.30705337,\n",
       "        69.36458876,  39.53833914,  53.97105215,  69.07014406,\n",
       "        67.94685548,  70.66150955,  76.97878373,  67.37202755,\n",
       "        89.67677575,  50.53478829,  34.21206098,  77.92409145,\n",
       "        62.27101367,  80.19018075,  93.1143888 ,  61.83020602,\n",
       "        38.7858038 ,  61.37928945,  85.40451939,  52.10797973,\n",
       "        52.04540477,  40.23689374,  54.63510555,  33.91550011,\n",
       "        64.17698887,  74.78925296,  34.18364003,  83.90239366,\n",
       "        51.54772027,  94.44336777,  82.36875376,  51.04775177,\n",
       "        62.22267576,  77.19303493,  97.77159928,  62.0730638 ,\n",
       "        91.5649745 ,  79.94481794,  99.27252693,  90.54671411,\n",
       "        34.52451385,  50.28649612,  49.58667722,  97.64563396,\n",
       "        32.57720017,  74.24869137,  71.79646206,  75.39561147,\n",
       "        35.28611282,  56.2538175 ,  30.05882245,  44.66826172,\n",
       "        66.56089447,  40.45755098,  49.07256322,  80.27957401,\n",
       "        66.74671857,  32.72283304,  64.03932042,  72.34649423,\n",
       "        60.45788574,  58.84095622,  99.8278578 ,  47.26426911,\n",
       "        50.4581598 ,  60.45555629,  82.22666158,  88.91389642,\n",
       "        94.83450672,  67.31925747,  57.23870632,  80.366756  ,\n",
       "        68.46852179,  42.07545454,  75.47770201,  78.63542435,\n",
       "        52.34800399,  94.09433113,  90.44855097,  55.48216114,\n",
       "        74.49269242,  89.84580671,  83.48916274,  42.26170081,\n",
       "        99.31500881,  55.34001756,  74.775893  ,  34.62365962])"
      ]
     },
     "execution_count": 35,
     "metadata": {},
     "output_type": "execute_result"
    }
   ],
   "source": [
    "X1"
   ]
  },
  {
   "cell_type": "code",
   "execution_count": 36,
   "metadata": {
    "collapsed": false
   },
   "outputs": [
    {
     "data": {
      "text/plain": [
       "[<matplotlib.lines.Line2D at 0x2dd1ca38e10>]"
      ]
     },
     "execution_count": 36,
     "metadata": {},
     "output_type": "execute_result"
    },
    {
     "data": {
      "image/png": "[encoded data removed]",
      "text/plain": [
       "<matplotlib.figure.Figure at 0x2dd1c9e9c88>"
      ]
     },
     "metadata": {},
     "output_type": "display_data"
    }
   ],
   "source": [
    "plt.figure(figsize=(13,8))\n",
    "ax = plt.subplot()\n",
    "X0 = np.array([30,99])\n",
    "ax.plot((-w0/w2) - (w1*X0)/w2)"
   ]
  },
  {
   "cell_type": "code",
   "execution_count": 37,
   "metadata": {
    "collapsed": false
   },
   "outputs": [
    {
     "data": {
      "text/plain": [
       "<matplotlib.legend.Legend at 0x2dd1cada400>"
      ]
     },
     "execution_count": 37,
     "metadata": {},
     "output_type": "execute_result"
    },
    {
     "data": {
      "image/png": "[encoded data removed]",
      "text/plain": [
       "<matplotlib.figure.Figure at 0x2dd1ca24d30>"
      ]
     },
     "metadata": {},
     "output_type": "display_data"
    }
   ],
   "source": [
    "plt.figure(figsize=(13,8))\n",
    "ax = plt.subplot()\n",
    "\n",
    "ax.scatter((combined['Exam 1 Score'].loc[combined['Admitted'] == 1]), combined['Exam 2 Score'].loc[combined['Admitted'] == 1],\n",
    "          c='g', s=40)\n",
    "ax.scatter(combined['Exam 1 Score'].loc[combined['Admitted'] == 0], combined['Exam 2 Score'].loc[combined['Admitted'] == 0],\n",
    "          c='r', s=40)\n",
    "\n",
    "\n",
    "X1_vals = np.array([combined['Exam 1 Score'].min(), combined['Exam 1 Score'].max()])\n",
    "\n",
    "\n",
    "#ax.plot((-w0/w2) - (w1*X1_vals)/w2)\n",
    "\n",
    "\n",
    "ax.set_xlabel('Exam 1 Score')\n",
    "ax.set_ylabel('Exam 2 Score')\n",
    "ax.legend(['Admitted', 'Not Admitted'], scatterpoints=1, loc='lower left')"
   ]
  },
  {
   "cell_type": "code",
   "execution_count": 38,
   "metadata": {
    "collapsed": false
   },
   "outputs": [
    {
     "data": {
      "text/plain": [
       "(100,)"
      ]
     },
     "execution_count": 38,
     "metadata": {},
     "output_type": "execute_result"
    }
   ],
   "source": [
    "X[:, 1].shape"
   ]
  },
  {
   "cell_type": "code",
   "execution_count": 39,
   "metadata": {
    "collapsed": false
   },
   "outputs": [
    {
     "data": {
      "text/plain": [
       "(100,)"
      ]
     },
     "execution_count": 39,
     "metadata": {},
     "output_type": "execute_result"
    }
   ],
   "source": [
    "y[:].shape"
   ]
  },
  {
   "cell_type": "code",
   "execution_count": 40,
   "metadata": {
    "collapsed": false
   },
   "outputs": [
    {
     "data": {
      "text/plain": [
       "0.77629062105758517"
      ]
     },
     "execution_count": 40,
     "metadata": {},
     "output_type": "execute_result"
    }
   ],
   "source": [
    "hypothesis([1, 45, 85], new_theta)"
   ]
  },
  {
   "cell_type": "code",
   "execution_count": 41,
   "metadata": {
    "collapsed": true
   },
   "outputs": [],
   "source": [
    "accuracy = ((hypothesis(X, new_theta).round()) == y).mean()"
   ]
  },
  {
   "cell_type": "code",
   "execution_count": 42,
   "metadata": {
    "collapsed": false
   },
   "outputs": [
    {
     "data": {
      "text/plain": [
       "0.89000000000000001"
      ]
     },
     "execution_count": 42,
     "metadata": {},
     "output_type": "execute_result"
    }
   ],
   "source": [
    "accuracy"
   ]
  },
  {
   "cell_type": "markdown",
   "metadata": {},
   "source": [
    "Logistic Regression has an 89% accuracy on the training set."
   ]
  },
  {
   "cell_type": "markdown",
   "metadata": {},
   "source": [
    "## Regularized Logistic Regression"
   ]
  },
  {
   "cell_type": "code",
   "execution_count": 43,
   "metadata": {
    "collapsed": true
   },
   "outputs": [],
   "source": [
    "data = pd.read_csv(\"ex2data2.txt\")"
   ]
  },
  {
   "cell_type": "code",
   "execution_count": 44,
   "metadata": {
    "collapsed": false
   },
   "outputs": [
    {
     "data": {
      "text/html": [
       "<div>\n",
       "<table border=\"1\" class=\"dataframe\">\n",
       "  <thead>\n",
       "    <tr style=\"text-align: right;\">\n",
       "      <th></th>\n",
       "      <th>0.051267</th>\n",
       "      <th>0.69956</th>\n",
       "      <th>1</th>\n",
       "    </tr>\n",
       "  </thead>\n",
       "  <tbody>\n",
       "    <tr>\n",
       "      <th>0</th>\n",
       "      <td>-0.092742</td>\n",
       "      <td>0.68494</td>\n",
       "      <td>1</td>\n",
       "    </tr>\n",
       "    <tr>\n",
       "      <th>1</th>\n",
       "      <td>-0.213710</td>\n",
       "      <td>0.69225</td>\n",
       "      <td>1</td>\n",
       "    </tr>\n",
       "    <tr>\n",
       "      <th>2</th>\n",
       "      <td>-0.375000</td>\n",
       "      <td>0.50219</td>\n",
       "      <td>1</td>\n",
       "    </tr>\n",
       "    <tr>\n",
       "      <th>3</th>\n",
       "      <td>-0.513250</td>\n",
       "      <td>0.46564</td>\n",
       "      <td>1</td>\n",
       "    </tr>\n",
       "    <tr>\n",
       "      <th>4</th>\n",
       "      <td>-0.524770</td>\n",
       "      <td>0.20980</td>\n",
       "      <td>1</td>\n",
       "    </tr>\n",
       "  </tbody>\n",
       "</table>\n",
       "</div>"
      ],
      "text/plain": [
       "   0.051267  0.69956  1\n",
       "0 -0.092742  0.68494  1\n",
       "1 -0.213710  0.69225  1\n",
       "2 -0.375000  0.50219  1\n",
       "3 -0.513250  0.46564  1\n",
       "4 -0.524770  0.20980  1"
      ]
     },
     "execution_count": 44,
     "metadata": {},
     "output_type": "execute_result"
    }
   ],
   "source": [
    "data.head()"
   ]
  },
  {
   "cell_type": "code",
   "execution_count": 45,
   "metadata": {
    "collapsed": false
   },
   "outputs": [
    {
     "data": {
      "text/html": [
       "<div>\n",
       "<table border=\"1\" class=\"dataframe\">\n",
       "  <thead>\n",
       "    <tr style=\"text-align: right;\">\n",
       "      <th></th>\n",
       "      <th>Microchip Test 1</th>\n",
       "      <th>Microchip Test 2</th>\n",
       "      <th>Result</th>\n",
       "    </tr>\n",
       "  </thead>\n",
       "  <tbody>\n",
       "    <tr>\n",
       "      <th>0</th>\n",
       "      <td>0.051267</td>\n",
       "      <td>0.69956</td>\n",
       "      <td>1.0</td>\n",
       "    </tr>\n",
       "  </tbody>\n",
       "</table>\n",
       "</div>"
      ],
      "text/plain": [
       "   Microchip Test 1  Microchip Test 2  Result\n",
       "0          0.051267           0.69956     1.0"
      ]
     },
     "execution_count": 45,
     "metadata": {},
     "output_type": "execute_result"
    }
   ],
   "source": [
    "ex = pd.DataFrame([float(data.columns[0]), float(data.columns[1]), int(data.columns[2])]).T\n",
    "ex.columns = ['Microchip Test 1', 'Microchip Test 2', 'Result']\n",
    "data.columns = ex.columns\n",
    "data = data.append(ex, ignore_index=True)\n",
    "ex\n"
   ]
  },
  {
   "cell_type": "code",
   "execution_count": 46,
   "metadata": {
    "collapsed": false
   },
   "outputs": [
    {
     "data": {
      "text/html": [
       "<div>\n",
       "<table border=\"1\" class=\"dataframe\">\n",
       "  <thead>\n",
       "    <tr style=\"text-align: right;\">\n",
       "      <th></th>\n",
       "      <th>Microchip Test 1</th>\n",
       "      <th>Microchip Test 2</th>\n",
       "      <th>Result</th>\n",
       "    </tr>\n",
       "  </thead>\n",
       "  <tbody>\n",
       "    <tr>\n",
       "      <th>113</th>\n",
       "      <td>-0.593890</td>\n",
       "      <td>0.494880</td>\n",
       "      <td>0.0</td>\n",
       "    </tr>\n",
       "    <tr>\n",
       "      <th>114</th>\n",
       "      <td>-0.484450</td>\n",
       "      <td>0.999270</td>\n",
       "      <td>0.0</td>\n",
       "    </tr>\n",
       "    <tr>\n",
       "      <th>115</th>\n",
       "      <td>-0.006336</td>\n",
       "      <td>0.999270</td>\n",
       "      <td>0.0</td>\n",
       "    </tr>\n",
       "    <tr>\n",
       "      <th>116</th>\n",
       "      <td>0.632650</td>\n",
       "      <td>-0.030612</td>\n",
       "      <td>0.0</td>\n",
       "    </tr>\n",
       "    <tr>\n",
       "      <th>117</th>\n",
       "      <td>0.051267</td>\n",
       "      <td>0.699560</td>\n",
       "      <td>1.0</td>\n",
       "    </tr>\n",
       "  </tbody>\n",
       "</table>\n",
       "</div>"
      ],
      "text/plain": [
       "     Microchip Test 1  Microchip Test 2  Result\n",
       "113         -0.593890          0.494880     0.0\n",
       "114         -0.484450          0.999270     0.0\n",
       "115         -0.006336          0.999270     0.0\n",
       "116          0.632650         -0.030612     0.0\n",
       "117          0.051267          0.699560     1.0"
      ]
     },
     "execution_count": 46,
     "metadata": {},
     "output_type": "execute_result"
    }
   ],
   "source": [
    "data.tail()"
   ]
  },
  {
   "cell_type": "code",
   "execution_count": 47,
   "metadata": {
    "collapsed": false
   },
   "outputs": [
    {
     "data": {
      "text/plain": [
       "array([[-0.092742 ,  0.68494  ,  1.       ],\n",
       "       [-0.21371  ,  0.69225  ,  1.       ],\n",
       "       [-0.375    ,  0.50219  ,  1.       ],\n",
       "       [-0.51325  ,  0.46564  ,  1.       ],\n",
       "       [-0.52477  ,  0.2098   ,  1.       ],\n",
       "       [-0.39804  ,  0.034357 ,  1.       ],\n",
       "       [-0.30588  , -0.19225  ,  1.       ],\n",
       "       [ 0.016705 , -0.40424  ,  1.       ],\n",
       "       [ 0.13191  , -0.51389  ,  1.       ],\n",
       "       [ 0.38537  , -0.56506  ,  1.       ],\n",
       "       [ 0.52938  , -0.5212   ,  1.       ],\n",
       "       [ 0.63882  , -0.24342  ,  1.       ],\n",
       "       [ 0.73675  , -0.18494  ,  1.       ],\n",
       "       [ 0.54666  ,  0.48757  ,  1.       ],\n",
       "       [ 0.322    ,  0.5826   ,  1.       ],\n",
       "       [ 0.16647  ,  0.53874  ,  1.       ],\n",
       "       [-0.046659 ,  0.81652  ,  1.       ],\n",
       "       [-0.17339  ,  0.69956  ,  1.       ],\n",
       "       [-0.47869  ,  0.63377  ,  1.       ],\n",
       "       [-0.60541  ,  0.59722  ,  1.       ],\n",
       "       [-0.62846  ,  0.33406  ,  1.       ],\n",
       "       [-0.59389  ,  0.005117 ,  1.       ],\n",
       "       [-0.42108  , -0.27266  ,  1.       ],\n",
       "       [-0.11578  , -0.39693  ,  1.       ],\n",
       "       [ 0.20104  , -0.60161  ,  1.       ],\n",
       "       [ 0.46601  , -0.53582  ,  1.       ],\n",
       "       [ 0.67339  , -0.53582  ,  1.       ],\n",
       "       [-0.13882  ,  0.54605  ,  1.       ],\n",
       "       [-0.29435  ,  0.77997  ,  1.       ],\n",
       "       [-0.26555  ,  0.96272  ,  1.       ],\n",
       "       [-0.16187  ,  0.8019   ,  1.       ],\n",
       "       [-0.17339  ,  0.64839  ,  1.       ],\n",
       "       [-0.28283  ,  0.47295  ,  1.       ],\n",
       "       [-0.36348  ,  0.31213  ,  1.       ],\n",
       "       [-0.30012  ,  0.027047 ,  1.       ],\n",
       "       [-0.23675  , -0.21418  ,  1.       ],\n",
       "       [-0.06394  , -0.18494  ,  1.       ],\n",
       "       [ 0.062788 , -0.16301  ,  1.       ],\n",
       "       [ 0.22984  , -0.41155  ,  1.       ],\n",
       "       [ 0.2932   , -0.2288   ,  1.       ],\n",
       "       [ 0.48329  , -0.18494  ,  1.       ],\n",
       "       [ 0.64459  , -0.14108  ,  1.       ],\n",
       "       [ 0.46025  ,  0.012427 ,  1.       ],\n",
       "       [ 0.6273   ,  0.15863  ,  1.       ],\n",
       "       [ 0.57546  ,  0.26827  ,  1.       ],\n",
       "       [ 0.72523  ,  0.44371  ,  1.       ],\n",
       "       [ 0.22408  ,  0.52412  ,  1.       ],\n",
       "       [ 0.44297  ,  0.67032  ,  1.       ],\n",
       "       [ 0.322    ,  0.69225  ,  1.       ],\n",
       "       [ 0.13767  ,  0.57529  ,  1.       ],\n",
       "       [-0.0063364,  0.39985  ,  1.       ],\n",
       "       [-0.092742 ,  0.55336  ,  1.       ],\n",
       "       [-0.20795  ,  0.35599  ,  1.       ],\n",
       "       [-0.20795  ,  0.17325  ,  1.       ],\n",
       "       [-0.43836  ,  0.21711  ,  1.       ],\n",
       "       [-0.21947  , -0.016813 ,  1.       ],\n",
       "       [-0.13882  , -0.27266  ,  1.       ],\n",
       "       [ 0.18376  ,  0.93348  ,  0.       ],\n",
       "       [ 0.22408  ,  0.77997  ,  0.       ],\n",
       "       [ 0.29896  ,  0.61915  ,  0.       ],\n",
       "       [ 0.50634  ,  0.75804  ,  0.       ],\n",
       "       [ 0.61578  ,  0.7288   ,  0.       ],\n",
       "       [ 0.60426  ,  0.59722  ,  0.       ],\n",
       "       [ 0.76555  ,  0.50219  ,  0.       ],\n",
       "       [ 0.92684  ,  0.3633   ,  0.       ],\n",
       "       [ 0.82316  ,  0.27558  ,  0.       ],\n",
       "       [ 0.96141  ,  0.085526 ,  0.       ],\n",
       "       [ 0.93836  ,  0.012427 ,  0.       ],\n",
       "       [ 0.86348  , -0.082602 ,  0.       ],\n",
       "       [ 0.89804  , -0.20687  ,  0.       ],\n",
       "       [ 0.85196  , -0.36769  ,  0.       ],\n",
       "       [ 0.82892  , -0.5212   ,  0.       ],\n",
       "       [ 0.79435  , -0.55775  ,  0.       ],\n",
       "       [ 0.59274  , -0.7405   ,  0.       ],\n",
       "       [ 0.51786  , -0.5943   ,  0.       ],\n",
       "       [ 0.46601  , -0.41886  ,  0.       ],\n",
       "       [ 0.35081  , -0.57968  ,  0.       ],\n",
       "       [ 0.28744  , -0.76974  ,  0.       ],\n",
       "       [ 0.085829 , -0.75512  ,  0.       ],\n",
       "       [ 0.14919  , -0.57968  ,  0.       ],\n",
       "       [-0.13306  , -0.4481   ,  0.       ],\n",
       "       [-0.40956  , -0.41155  ,  0.       ],\n",
       "       [-0.39228  , -0.25804  ,  0.       ],\n",
       "       [-0.74366  , -0.25804  ,  0.       ],\n",
       "       [-0.69758  ,  0.041667 ,  0.       ],\n",
       "       [-0.75518  ,  0.2902   ,  0.       ],\n",
       "       [-0.69758  ,  0.68494  ,  0.       ],\n",
       "       [-0.4038   ,  0.70687  ,  0.       ],\n",
       "       [-0.38076  ,  0.91886  ,  0.       ],\n",
       "       [-0.50749  ,  0.90424  ,  0.       ],\n",
       "       [-0.54781  ,  0.70687  ,  0.       ],\n",
       "       [ 0.10311  ,  0.77997  ,  0.       ],\n",
       "       [ 0.057028 ,  0.91886  ,  0.       ],\n",
       "       [-0.10426  ,  0.99196  ,  0.       ],\n",
       "       [-0.081221 ,  1.1089   ,  0.       ],\n",
       "       [ 0.28744  ,  1.087    ,  0.       ],\n",
       "       [ 0.39689  ,  0.82383  ,  0.       ],\n",
       "       [ 0.63882  ,  0.88962  ,  0.       ],\n",
       "       [ 0.82316  ,  0.66301  ,  0.       ],\n",
       "       [ 0.67339  ,  0.64108  ,  0.       ],\n",
       "       [ 1.0709   ,  0.10015  ,  0.       ],\n",
       "       [-0.046659 , -0.57968  ,  0.       ],\n",
       "       [-0.23675  , -0.63816  ,  0.       ],\n",
       "       [-0.15035  , -0.36769  ,  0.       ],\n",
       "       [-0.49021  , -0.3019   ,  0.       ],\n",
       "       [-0.46717  , -0.13377  ,  0.       ],\n",
       "       [-0.28859  , -0.060673 ,  0.       ],\n",
       "       [-0.61118  , -0.067982 ,  0.       ],\n",
       "       [-0.66302  , -0.21418  ,  0.       ],\n",
       "       [-0.59965  , -0.41886  ,  0.       ],\n",
       "       [-0.72638  , -0.082602 ,  0.       ],\n",
       "       [-0.83007  ,  0.31213  ,  0.       ],\n",
       "       [-0.72062  ,  0.53874  ,  0.       ],\n",
       "       [-0.59389  ,  0.49488  ,  0.       ],\n",
       "       [-0.48445  ,  0.99927  ,  0.       ],\n",
       "       [-0.0063364,  0.99927  ,  0.       ],\n",
       "       [ 0.63265  , -0.030612 ,  0.       ],\n",
       "       [ 0.051267 ,  0.69956  ,  1.       ]])"
      ]
     },
     "execution_count": 47,
     "metadata": {},
     "output_type": "execute_result"
    }
   ],
   "source": [
    "X = np.array(data.values)\n",
    "X"
   ]
  },
  {
   "cell_type": "code",
   "execution_count": 48,
   "metadata": {
    "collapsed": false
   },
   "outputs": [],
   "source": [
    "X_pass = np.array([[a[0], a[1]] for a in X if a[2] == 1])\n",
    "X_fail = np.array([[a[0], a[1]] for a in X if a[2] == 0])"
   ]
  },
  {
   "cell_type": "code",
   "execution_count": 49,
   "metadata": {
    "collapsed": false,
    "scrolled": false
   },
   "outputs": [
    {
     "data": {
      "text/plain": [
       "<matplotlib.legend.Legend at 0x2dd1cb86fd0>"
      ]
     },
     "execution_count": 49,
     "metadata": {},
     "output_type": "execute_result"
    },
    {
     "data": {
      "image/png": "[encoded data removed]",
      "text/plain": [
       "<matplotlib.figure.Figure at 0x2dd1ccf1da0>"
      ]
     },
     "metadata": {},
     "output_type": "display_data"
    }
   ],
   "source": [
    "plt.figure(figsize=(13,8))\n",
    "ax = plt.subplot()\n",
    "ax.scatter(X_pass[:, 0], X_pass[:, 1], c='g', s=40)\n",
    "ax.scatter(X_fail[:, 0], X_fail[:, 1], c='r', s=40)\n",
    "ax.set_xlabel(data.columns[0])\n",
    "ax.set_ylabel(data.columns[1])\n",
    "ax.legend(('Pass', 'Fail'), numpoints=1, fontsize=14)"
   ]
  },
  {
   "cell_type": "markdown",
   "metadata": {},
   "source": [
    "### Feature Mapping"
   ]
  },
  {
   "cell_type": "code",
   "execution_count": 50,
   "metadata": {
    "collapsed": false
   },
   "outputs": [],
   "source": [
    "y = X[:, 2]\n",
    "X_val = X[:, :2]"
   ]
  },
  {
   "cell_type": "code",
   "execution_count": 51,
   "metadata": {
    "collapsed": false,
    "scrolled": true
   },
   "outputs": [
    {
     "data": {
      "text/plain": [
       "array([[-0.092742 ,  0.68494  ],\n",
       "       [-0.21371  ,  0.69225  ],\n",
       "       [-0.375    ,  0.50219  ],\n",
       "       [-0.51325  ,  0.46564  ],\n",
       "       [-0.52477  ,  0.2098   ],\n",
       "       [-0.39804  ,  0.034357 ],\n",
       "       [-0.30588  , -0.19225  ],\n",
       "       [ 0.016705 , -0.40424  ],\n",
       "       [ 0.13191  , -0.51389  ],\n",
       "       [ 0.38537  , -0.56506  ],\n",
       "       [ 0.52938  , -0.5212   ],\n",
       "       [ 0.63882  , -0.24342  ],\n",
       "       [ 0.73675  , -0.18494  ],\n",
       "       [ 0.54666  ,  0.48757  ],\n",
       "       [ 0.322    ,  0.5826   ],\n",
       "       [ 0.16647  ,  0.53874  ],\n",
       "       [-0.046659 ,  0.81652  ],\n",
       "       [-0.17339  ,  0.69956  ],\n",
       "       [-0.47869  ,  0.63377  ],\n",
       "       [-0.60541  ,  0.59722  ],\n",
       "       [-0.62846  ,  0.33406  ],\n",
       "       [-0.59389  ,  0.005117 ],\n",
       "       [-0.42108  , -0.27266  ],\n",
       "       [-0.11578  , -0.39693  ],\n",
       "       [ 0.20104  , -0.60161  ],\n",
       "       [ 0.46601  , -0.53582  ],\n",
       "       [ 0.67339  , -0.53582  ],\n",
       "       [-0.13882  ,  0.54605  ],\n",
       "       [-0.29435  ,  0.77997  ],\n",
       "       [-0.26555  ,  0.96272  ],\n",
       "       [-0.16187  ,  0.8019   ],\n",
       "       [-0.17339  ,  0.64839  ],\n",
       "       [-0.28283  ,  0.47295  ],\n",
       "       [-0.36348  ,  0.31213  ],\n",
       "       [-0.30012  ,  0.027047 ],\n",
       "       [-0.23675  , -0.21418  ],\n",
       "       [-0.06394  , -0.18494  ],\n",
       "       [ 0.062788 , -0.16301  ],\n",
       "       [ 0.22984  , -0.41155  ],\n",
       "       [ 0.2932   , -0.2288   ],\n",
       "       [ 0.48329  , -0.18494  ],\n",
       "       [ 0.64459  , -0.14108  ],\n",
       "       [ 0.46025  ,  0.012427 ],\n",
       "       [ 0.6273   ,  0.15863  ],\n",
       "       [ 0.57546  ,  0.26827  ],\n",
       "       [ 0.72523  ,  0.44371  ],\n",
       "       [ 0.22408  ,  0.52412  ],\n",
       "       [ 0.44297  ,  0.67032  ],\n",
       "       [ 0.322    ,  0.69225  ],\n",
       "       [ 0.13767  ,  0.57529  ],\n",
       "       [-0.0063364,  0.39985  ],\n",
       "       [-0.092742 ,  0.55336  ],\n",
       "       [-0.20795  ,  0.35599  ],\n",
       "       [-0.20795  ,  0.17325  ],\n",
       "       [-0.43836  ,  0.21711  ],\n",
       "       [-0.21947  , -0.016813 ],\n",
       "       [-0.13882  , -0.27266  ],\n",
       "       [ 0.18376  ,  0.93348  ],\n",
       "       [ 0.22408  ,  0.77997  ],\n",
       "       [ 0.29896  ,  0.61915  ],\n",
       "       [ 0.50634  ,  0.75804  ],\n",
       "       [ 0.61578  ,  0.7288   ],\n",
       "       [ 0.60426  ,  0.59722  ],\n",
       "       [ 0.76555  ,  0.50219  ],\n",
       "       [ 0.92684  ,  0.3633   ],\n",
       "       [ 0.82316  ,  0.27558  ],\n",
       "       [ 0.96141  ,  0.085526 ],\n",
       "       [ 0.93836  ,  0.012427 ],\n",
       "       [ 0.86348  , -0.082602 ],\n",
       "       [ 0.89804  , -0.20687  ],\n",
       "       [ 0.85196  , -0.36769  ],\n",
       "       [ 0.82892  , -0.5212   ],\n",
       "       [ 0.79435  , -0.55775  ],\n",
       "       [ 0.59274  , -0.7405   ],\n",
       "       [ 0.51786  , -0.5943   ],\n",
       "       [ 0.46601  , -0.41886  ],\n",
       "       [ 0.35081  , -0.57968  ],\n",
       "       [ 0.28744  , -0.76974  ],\n",
       "       [ 0.085829 , -0.75512  ],\n",
       "       [ 0.14919  , -0.57968  ],\n",
       "       [-0.13306  , -0.4481   ],\n",
       "       [-0.40956  , -0.41155  ],\n",
       "       [-0.39228  , -0.25804  ],\n",
       "       [-0.74366  , -0.25804  ],\n",
       "       [-0.69758  ,  0.041667 ],\n",
       "       [-0.75518  ,  0.2902   ],\n",
       "       [-0.69758  ,  0.68494  ],\n",
       "       [-0.4038   ,  0.70687  ],\n",
       "       [-0.38076  ,  0.91886  ],\n",
       "       [-0.50749  ,  0.90424  ],\n",
       "       [-0.54781  ,  0.70687  ],\n",
       "       [ 0.10311  ,  0.77997  ],\n",
       "       [ 0.057028 ,  0.91886  ],\n",
       "       [-0.10426  ,  0.99196  ],\n",
       "       [-0.081221 ,  1.1089   ],\n",
       "       [ 0.28744  ,  1.087    ],\n",
       "       [ 0.39689  ,  0.82383  ],\n",
       "       [ 0.63882  ,  0.88962  ],\n",
       "       [ 0.82316  ,  0.66301  ],\n",
       "       [ 0.67339  ,  0.64108  ],\n",
       "       [ 1.0709   ,  0.10015  ],\n",
       "       [-0.046659 , -0.57968  ],\n",
       "       [-0.23675  , -0.63816  ],\n",
       "       [-0.15035  , -0.36769  ],\n",
       "       [-0.49021  , -0.3019   ],\n",
       "       [-0.46717  , -0.13377  ],\n",
       "       [-0.28859  , -0.060673 ],\n",
       "       [-0.61118  , -0.067982 ],\n",
       "       [-0.66302  , -0.21418  ],\n",
       "       [-0.59965  , -0.41886  ],\n",
       "       [-0.72638  , -0.082602 ],\n",
       "       [-0.83007  ,  0.31213  ],\n",
       "       [-0.72062  ,  0.53874  ],\n",
       "       [-0.59389  ,  0.49488  ],\n",
       "       [-0.48445  ,  0.99927  ],\n",
       "       [-0.0063364,  0.99927  ],\n",
       "       [ 0.63265  , -0.030612 ],\n",
       "       [ 0.051267 ,  0.69956  ]])"
      ]
     },
     "execution_count": 51,
     "metadata": {},
     "output_type": "execute_result"
    }
   ],
   "source": [
    "X_val"
   ]
  },
  {
   "cell_type": "code",
   "execution_count": 52,
   "metadata": {
    "collapsed": true
   },
   "outputs": [],
   "source": [
    "def map_features(x1, x2):\n",
    "    '''\n",
    "    Maps the two input features to quadratic features\n",
    "    \n",
    "    Returns a new feature array with more features, comprising of\n",
    "    X1, X2, X1 ** 2, X2 ** 2, X1*X2, X1*X2 ** 2, etc...\n",
    "    \n",
    "    Inputs X1, X2 must be the same size\n",
    "    '''\n",
    "    \n",
    "    x1.shape = (x1.size, 1)\n",
    "    x2.shape = (x2.size, 1)\n",
    "    \n",
    "    degree = 6\n",
    "    out = np.ones(shape=(x1[:, 0].size, 1))\n",
    "    \n",
    "    m, n = out.shape\n",
    "    \n",
    "    for i in range(1, degree + 1):\n",
    "        for j in range(i + 1):\n",
    "            r = (x1 ** (i - j)) * (x2 ** j)\n",
    "            out = np.append(out, r, axis=1)\n",
    "    \n",
    "    return out\n",
    "    \n",
    "    "
   ]
  },
  {
   "cell_type": "code",
   "execution_count": 53,
   "metadata": {
    "collapsed": false
   },
   "outputs": [],
   "source": [
    "X_mapped = map_features(X[:, 0], X[:, 1])"
   ]
  },
  {
   "cell_type": "code",
   "execution_count": 54,
   "metadata": {
    "collapsed": false
   },
   "outputs": [
    {
     "data": {
      "text/plain": [
       "array([[  1.00000000e+00,  -9.27420000e-02,   6.84940000e-01, ...,\n",
       "          1.89305413e-03,  -1.39810280e-02,   1.03255971e-01],\n",
       "       [  1.00000000e+00,  -2.13710000e-01,   6.92250000e-01, ...,\n",
       "          1.04882142e-02,  -3.39734512e-02,   1.10046893e-01],\n",
       "       [  1.00000000e+00,  -3.75000000e-01,   5.02190000e-01, ...,\n",
       "          8.94406151e-03,  -1.19776487e-02,   1.60401477e-02],\n",
       "       ..., \n",
       "       [  1.00000000e+00,  -6.33640000e-03,   9.99270000e-01, ...,\n",
       "          4.00328554e-05,  -6.31330588e-03,   9.95627986e-01],\n",
       "       [  1.00000000e+00,   6.32650000e-01,  -3.06120000e-02, ...,\n",
       "          3.51474517e-07,  -1.70067777e-08,   8.22905998e-10],\n",
       "       [  1.00000000e+00,   5.12670000e-02,   6.99560000e-01, ...,\n",
       "          6.29470940e-04,   8.58939846e-03,   1.17205992e-01]])"
      ]
     },
     "execution_count": 54,
     "metadata": {},
     "output_type": "execute_result"
    }
   ],
   "source": [
    "X_mapped"
   ]
  },
  {
   "cell_type": "code",
   "execution_count": 55,
   "metadata": {
    "collapsed": false
   },
   "outputs": [
    {
     "data": {
      "text/plain": [
       "(118, 28)"
      ]
     },
     "execution_count": 55,
     "metadata": {},
     "output_type": "execute_result"
    }
   ],
   "source": [
    "X_mapped.shape"
   ]
  },
  {
   "cell_type": "markdown",
   "metadata": {},
   "source": [
    "### Regularized Cost Function and Gradient"
   ]
  },
  {
   "cell_type": "code",
   "execution_count": 56,
   "metadata": {
    "collapsed": false
   },
   "outputs": [],
   "source": [
    "m, n = X_mapped.shape\n",
    "theta1 = np.zeros([n, 1])"
   ]
  },
  {
   "cell_type": "code",
   "execution_count": 57,
   "metadata": {
    "collapsed": true
   },
   "outputs": [],
   "source": [
    "def reg_cost_function(X, y, theta, lambda_=0):\n",
    "    \n",
    "    m, n = X.shape\n",
    "    theta = theta.reshape((n, 1))\n",
    "    y = y.reshape((m, 1))\n",
    "    \n",
    "    term1 = -y*np.log(hypothesis(X, theta))\n",
    "    term2 = np.log(1 - hypothesis(X, theta))\n",
    "    term1 = term1.reshape((m, 1))\n",
    "    term2 = term2.reshape((m, 1))\n",
    "    reg = ((lambda_ / 2 * m) * np.sum(theta[1:]**2))\n",
    "    \n",
    "    J = (np.sum(term1 - (1 - y) * term2) / m) + reg\n",
    "    \n",
    "    return J"
   ]
  },
  {
   "cell_type": "code",
   "execution_count": 58,
   "metadata": {
    "collapsed": false
   },
   "outputs": [
    {
     "data": {
      "text/plain": [
       "0.6931471805599454"
      ]
     },
     "execution_count": 58,
     "metadata": {},
     "output_type": "execute_result"
    }
   ],
   "source": [
    "reg_cost_function(X_mapped, y, theta1)"
   ]
  },
  {
   "cell_type": "code",
   "execution_count": 110,
   "metadata": {
    "collapsed": true
   },
   "outputs": [],
   "source": [
    "def reg_gradient(X, y, theta, lambda_=0):\n",
    "    m, n = X.shape\n",
    "    thetaR = theta[1:, 0]\n",
    "    y = y.reshape((m, 1))\n",
    "    delta = hypothesis(X, theta) - y\n",
    "    sum_delta = delta.T.dot(X[:, 0])\n",
    "    grad1 = (1.0 / m) * sum_delta\n",
    "    \n",
    "    XR = X[:, 1:X.shape[1]]\n",
    "    sum_delta = delta.T.dot(XR)\n",
    "    \n",
    "    grad = (1.0 / m) * (sum_delta + lambda_ * thetaR)\n",
    "    \n",
    "    out = np.zeros((grad.shape[0], grad.shape[1] + 1))\n",
    "    \n",
    "    out[:, 0] = grad1\n",
    "    out[:, 1:] = grad\n",
    "    \n",
    "    return out.T.flatten()"
   ]
  },
  {
   "cell_type": "code",
   "execution_count": 111,
   "metadata": {
    "collapsed": false
   },
   "outputs": [
    {
     "data": {
      "text/plain": [
       "array([  8.47457627e-03,   1.87880932e-02,   7.77711864e-05,\n",
       "         5.03446395e-02,   1.15013308e-02,   3.76648474e-02,\n",
       "         1.83559872e-02,   7.32393391e-03,   8.19244468e-03,\n",
       "         2.34764889e-02,   3.93486234e-02,   2.23923907e-03,\n",
       "         1.28600503e-02,   3.09593720e-03,   3.93028171e-02,\n",
       "         1.99707467e-02,   4.32983232e-03,   3.38643902e-03,\n",
       "         5.83822078e-03,   4.47629067e-03,   3.10079849e-02,\n",
       "         3.10312442e-02,   1.09740238e-03,   6.31570797e-03,\n",
       "         4.08503006e-04,   7.26504316e-03,   1.37646175e-03,\n",
       "         3.87936363e-02])"
      ]
     },
     "execution_count": 111,
     "metadata": {},
     "output_type": "execute_result"
    }
   ],
   "source": [
    "reg_gradient(X_mapped, y, theta1)"
   ]
  },
  {
   "cell_type": "code",
   "execution_count": 112,
   "metadata": {
    "collapsed": false
   },
   "outputs": [
    {
     "data": {
      "text/plain": [
       "array([ 0.,  0.,  0.,  0.,  0.,  0.,  0.,  0.,  0.,  0.,  0.,  0.,  0.,\n",
       "        0.,  0.,  0.,  0.,  0.,  0.,  0.,  0.,  0.,  0.,  0.,  0.,  0.,\n",
       "        0.,  0.])"
      ]
     },
     "execution_count": 112,
     "metadata": {},
     "output_type": "execute_result"
    }
   ],
   "source": [
    "reg_gradient(X_mapped, y, theta1).round()"
   ]
  },
  {
   "cell_type": "code",
   "execution_count": 113,
   "metadata": {
    "collapsed": true
   },
   "outputs": [],
   "source": [
    "cost = reg_cost_function(X_mapped, y, theta1, lambda_=1)"
   ]
  },
  {
   "cell_type": "code",
   "execution_count": 114,
   "metadata": {
    "collapsed": false
   },
   "outputs": [
    {
     "data": {
      "text/plain": [
       "0.6931471805599454"
      ]
     },
     "execution_count": 114,
     "metadata": {},
     "output_type": "execute_result"
    }
   ],
   "source": [
    "cost"
   ]
  },
  {
   "cell_type": "code",
   "execution_count": 115,
   "metadata": {
    "collapsed": false
   },
   "outputs": [],
   "source": [
    "grad = reg_gradient(X_mapped, y, theta1, lambda_=0)"
   ]
  },
  {
   "cell_type": "code",
   "execution_count": 116,
   "metadata": {
    "collapsed": false
   },
   "outputs": [
    {
     "data": {
      "text/plain": [
       "array([ 0.,  0.,  0.,  0.,  0.,  0.,  0.,  0.,  0.,  0.,  0.,  0.,  0.,\n",
       "        0.,  0.,  0.,  0.,  0.,  0.,  0.,  0.,  0.,  0.,  0.,  0.,  0.,\n",
       "        0.,  0.])"
      ]
     },
     "execution_count": 116,
     "metadata": {},
     "output_type": "execute_result"
    }
   ],
   "source": [
    "grad.round()"
   ]
  },
  {
   "cell_type": "code",
   "execution_count": 117,
   "metadata": {
    "collapsed": true
   },
   "outputs": [],
   "source": [
    "def decorated_cost(theta):\n",
    "    return reg_cost_function(X_mapped, y, theta, lambda_=0)"
   ]
  },
  {
   "cell_type": "code",
   "execution_count": 118,
   "metadata": {
    "collapsed": false
   },
   "outputs": [],
   "source": [
    "from scipy.optimize import fmin_bfgs"
   ]
  },
  {
   "cell_type": "code",
   "execution_count": 119,
   "metadata": {
    "collapsed": false,
    "scrolled": true
   },
   "outputs": [
    {
     "name": "stdout",
     "output_type": "stream",
     "text": [
      "Warning: Desired error not necessarily achieved due to precision loss.\n",
      "         Current function value: 0.238236\n",
      "         Iterations: 538\n",
      "         Function evaluations: 19271\n",
      "         Gradient evaluations: 642\n"
     ]
    }
   ],
   "source": [
    "result = fmin_bfgs(decorated_cost, theta1, maxiter=1000)"
   ]
  },
  {
   "cell_type": "code",
   "execution_count": 120,
   "metadata": {
    "collapsed": false
   },
   "outputs": [
    {
     "data": {
      "text/plain": [
       "array([   27.,    42.,    35.,  -272.,  -133.,  -127.,  -304.,  -390.,\n",
       "        -255.,  -113.,   925.,   899.,  1191.,   510.,   231.,   515.,\n",
       "         958.,  1141.,   824.,   341.,   112., -1041., -1588., -2496.,\n",
       "       -1984., -1586.,  -593.,  -174.])"
      ]
     },
     "execution_count": 120,
     "metadata": {},
     "output_type": "execute_result"
    }
   ],
   "source": [
    "result.round()"
   ]
  },
  {
   "cell_type": "code",
   "execution_count": 121,
   "metadata": {
    "collapsed": false
   },
   "outputs": [],
   "source": [
    "new = reg_cost_function(X_mapped, y, result, lambda_=0.0)"
   ]
  },
  {
   "cell_type": "code",
   "execution_count": 122,
   "metadata": {
    "collapsed": false
   },
   "outputs": [
    {
     "data": {
      "text/plain": [
       "0.23823637691390062"
      ]
     },
     "execution_count": 122,
     "metadata": {},
     "output_type": "execute_result"
    }
   ],
   "source": [
    "new"
   ]
  },
  {
   "cell_type": "code",
   "execution_count": 123,
   "metadata": {
    "collapsed": true
   },
   "outputs": [],
   "source": [
    "old = reg_cost_function(X_mapped, y, theta1, lambda_=1)"
   ]
  },
  {
   "cell_type": "code",
   "execution_count": 124,
   "metadata": {
    "collapsed": false
   },
   "outputs": [
    {
     "data": {
      "text/plain": [
       "0.6931471805599454"
      ]
     },
     "execution_count": 124,
     "metadata": {},
     "output_type": "execute_result"
    }
   ],
   "source": [
    "old"
   ]
  },
  {
   "cell_type": "code",
   "execution_count": 125,
   "metadata": {
    "collapsed": false
   },
   "outputs": [
    {
     "data": {
      "text/plain": [
       "0.45491080364604475"
      ]
     },
     "execution_count": 125,
     "metadata": {},
     "output_type": "execute_result"
    }
   ],
   "source": [
    "old - new"
   ]
  }
 ],
 "metadata": {
  "kernelspec": {
   "display_name": "Python 3",
   "language": "python",
   "name": "python3"
  },
  "language_info": {
   "codemirror_mode": {
    "name": "ipython",
    "version": 3
   },
   "file_extension": ".py",
   "mimetype": "text/x-python",
   "name": "python",
   "nbconvert_exporter": "python",
   "pygments_lexer": "ipython3",
   "version": "3.6.0"
  }
 },
 "nbformat": 4,
 "nbformat_minor": 2
}
